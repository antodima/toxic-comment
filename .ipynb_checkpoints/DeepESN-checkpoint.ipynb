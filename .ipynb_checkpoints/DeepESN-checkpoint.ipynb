{
 "cells": [
  {
   "cell_type": "markdown",
   "metadata": {},
   "source": [
    "# DeepESN <br/>\n",
    "https://github.com/gallicch/DeepRC-TF"
   ]
  },
  {
   "cell_type": "code",
   "execution_count": 1,
   "metadata": {},
   "outputs": [
    {
     "name": "stderr",
     "output_type": "stream",
     "text": [
      "WARNING:root:Limited tf.compat.v2.summary API due to missing TensorBoard installation.\n",
      "WARNING:root:Limited tf.compat.v2.summary API due to missing TensorBoard installation.\n",
      "WARNING:root:Limited tf.compat.v2.summary API due to missing TensorBoard installation.\n",
      "WARNING:root:Limited tf.summary API due to missing TensorBoard installation.\n"
     ]
    }
   ],
   "source": [
    "%matplotlib inline\n",
    "import re\n",
    "import matplotlib\n",
    "import numpy as np\n",
    "import matplotlib.pyplot as plt\n",
    "import pandas as pd\n",
    "import pickle\n",
    "\n",
    "import tensorflow as tf\n",
    "from tensorflow import keras\n",
    "from tensorflow.keras.models import Model\n",
    "from tensorflow.keras.optimizers import Adam\n",
    "from tensorflow.keras.layers import Dense, Input\n",
    "from tensorflow.keras.preprocessing.text import Tokenizer\n",
    "\n",
    "from sklearn.model_selection import train_test_split\n",
    "from sklearn.metrics import accuracy_score, multilabel_confusion_matrix, plot_confusion_matrix, classification_report, coverage_error\n",
    "\n",
    "from DeepRC import *"
   ]
  },
  {
   "cell_type": "code",
   "execution_count": 2,
   "metadata": {},
   "outputs": [],
   "source": [
    "def clean_text(text):\n",
    "    text = text.lower()\n",
    "    text = re.sub(r\"what's\", \"what is \", text)\n",
    "    text = re.sub(r\"\\'s\", \" \", text)\n",
    "    text = re.sub(r\"\\'ve\", \" have \", text)\n",
    "    text = re.sub(r\"can't\", \"can not \", text)\n",
    "    text = re.sub(r\"n't\", \" not \", text)\n",
    "    text = re.sub(r\"i'm\", \"i am \", text)\n",
    "    text = re.sub(r\"\\'re\", \" are \", text)\n",
    "    text = re.sub(r\"\\'d\", \" would \", text)\n",
    "    text = re.sub(r\"\\'ll\", \" will \", text)\n",
    "    text = re.sub(r\"\\'scuse\", \" excuse \", text)\n",
    "    text = re.sub('\\W', ' ', text)\n",
    "    text = re.sub('\\s+', ' ', text)\n",
    "    text = text.strip(' ')\n",
    "    return text"
   ]
  },
  {
   "cell_type": "code",
   "execution_count": 3,
   "metadata": {},
   "outputs": [],
   "source": [
    "df = pd.read_csv(\"data/train.csv\")\n",
    "df['comment_text'] = df['comment_text'].map(lambda com : clean_text(com))\n",
    "\n",
    "categories = ['toxic', 'severe_toxic', 'obscene', 'threat', 'insult', 'identity_hate']\n",
    "num_classes = len(categories)\n",
    "train, valid = train_test_split(df, random_state=42, test_size=0.33, shuffle=True)"
   ]
  },
  {
   "cell_type": "code",
   "execution_count": 4,
   "metadata": {},
   "outputs": [
    {
     "name": "stdout",
     "output_type": "stream",
     "text": [
      "Null values:  False\n",
      "Same columns between train and test:  False\n",
      "Number of rows original: 153164\n",
      "Number of rows after: 63978\n"
     ]
    },
    {
     "data": {
      "text/html": [
       "<div>\n",
       "<style scoped>\n",
       "    .dataframe tbody tr th:only-of-type {\n",
       "        vertical-align: middle;\n",
       "    }\n",
       "\n",
       "    .dataframe tbody tr th {\n",
       "        vertical-align: top;\n",
       "    }\n",
       "\n",
       "    .dataframe thead th {\n",
       "        text-align: right;\n",
       "    }\n",
       "</style>\n",
       "<table border=\"1\" class=\"dataframe\">\n",
       "  <thead>\n",
       "    <tr style=\"text-align: right;\">\n",
       "      <th></th>\n",
       "      <th>id</th>\n",
       "      <th>comment_text</th>\n",
       "      <th>toxic</th>\n",
       "      <th>severe_toxic</th>\n",
       "      <th>obscene</th>\n",
       "      <th>threat</th>\n",
       "      <th>insult</th>\n",
       "      <th>identity_hate</th>\n",
       "      <th>one_hot_labels</th>\n",
       "    </tr>\n",
       "  </thead>\n",
       "  <tbody>\n",
       "    <tr>\n",
       "      <th>5</th>\n",
       "      <td>0001ea8717f6de06</td>\n",
       "      <td>Thank you for understanding. I think very high...</td>\n",
       "      <td>0</td>\n",
       "      <td>0</td>\n",
       "      <td>0</td>\n",
       "      <td>0</td>\n",
       "      <td>0</td>\n",
       "      <td>0</td>\n",
       "      <td>[0, 0, 0, 0, 0, 0]</td>\n",
       "    </tr>\n",
       "    <tr>\n",
       "      <th>7</th>\n",
       "      <td>000247e83dcc1211</td>\n",
       "      <td>:Dear god this site is horrible.</td>\n",
       "      <td>0</td>\n",
       "      <td>0</td>\n",
       "      <td>0</td>\n",
       "      <td>0</td>\n",
       "      <td>0</td>\n",
       "      <td>0</td>\n",
       "      <td>[0, 0, 0, 0, 0, 0]</td>\n",
       "    </tr>\n",
       "    <tr>\n",
       "      <th>11</th>\n",
       "      <td>0002f87b16116a7f</td>\n",
       "      <td>\"::: Somebody will invariably try to add Relig...</td>\n",
       "      <td>0</td>\n",
       "      <td>0</td>\n",
       "      <td>0</td>\n",
       "      <td>0</td>\n",
       "      <td>0</td>\n",
       "      <td>0</td>\n",
       "      <td>[0, 0, 0, 0, 0, 0]</td>\n",
       "    </tr>\n",
       "    <tr>\n",
       "      <th>13</th>\n",
       "      <td>0003e1cccfd5a40a</td>\n",
       "      <td>\" \\n\\n It says it right there that it IS a typ...</td>\n",
       "      <td>0</td>\n",
       "      <td>0</td>\n",
       "      <td>0</td>\n",
       "      <td>0</td>\n",
       "      <td>0</td>\n",
       "      <td>0</td>\n",
       "      <td>[0, 0, 0, 0, 0, 0]</td>\n",
       "    </tr>\n",
       "    <tr>\n",
       "      <th>14</th>\n",
       "      <td>00059ace3e3e9a53</td>\n",
       "      <td>\" \\n\\n == Before adding a new product to the l...</td>\n",
       "      <td>0</td>\n",
       "      <td>0</td>\n",
       "      <td>0</td>\n",
       "      <td>0</td>\n",
       "      <td>0</td>\n",
       "      <td>0</td>\n",
       "      <td>[0, 0, 0, 0, 0, 0]</td>\n",
       "    </tr>\n",
       "  </tbody>\n",
       "</table>\n",
       "</div>"
      ],
      "text/plain": [
       "                  id                                       comment_text  \\\n",
       "5   0001ea8717f6de06  Thank you for understanding. I think very high...   \n",
       "7   000247e83dcc1211                   :Dear god this site is horrible.   \n",
       "11  0002f87b16116a7f  \"::: Somebody will invariably try to add Relig...   \n",
       "13  0003e1cccfd5a40a  \" \\n\\n It says it right there that it IS a typ...   \n",
       "14  00059ace3e3e9a53  \" \\n\\n == Before adding a new product to the l...   \n",
       "\n",
       "    toxic  severe_toxic  obscene  threat  insult  identity_hate  \\\n",
       "5       0             0        0       0       0              0   \n",
       "7       0             0        0       0       0              0   \n",
       "11      0             0        0       0       0              0   \n",
       "13      0             0        0       0       0              0   \n",
       "14      0             0        0       0       0              0   \n",
       "\n",
       "        one_hot_labels  \n",
       "5   [0, 0, 0, 0, 0, 0]  \n",
       "7   [0, 0, 0, 0, 0, 0]  \n",
       "11  [0, 0, 0, 0, 0, 0]  \n",
       "13  [0, 0, 0, 0, 0, 0]  \n",
       "14  [0, 0, 0, 0, 0, 0]  "
      ]
     },
     "execution_count": 4,
     "metadata": {},
     "output_type": "execute_result"
    }
   ],
   "source": [
    "df_test = pd.read_csv('data/test.csv')\n",
    "df['comment_text'] = df['comment_text'].map(lambda com : clean_text(com))\n",
    "cols = df_test.columns\n",
    "label_cols = list(cols[2:])\n",
    "\n",
    "test_labels_df = pd.read_csv('data/test_labels.csv')\n",
    "df_test = df_test.merge(test_labels_df, on='id', how='left')\n",
    "test_label_cols = list(df_test.columns[2:])\n",
    "print('Null values: ', df_test.isnull().values.any()) #should not be any null sentences or labels\n",
    "print('Same columns between train and test: ', label_cols == test_label_cols) #columns should be the same\n",
    "print(f\"Number of rows original: {df_test.shape[0]}\")\n",
    "\n",
    "df_test = df_test[~df_test[test_label_cols].eq(-1).any(axis=1)] #remove irrelevant rows/comments with -1 values\n",
    "df_test['one_hot_labels'] = list(df_test[test_label_cols].values)\n",
    "print(f\"Number of rows after: {df_test.shape[0]}\")\n",
    "df_test.head()"
   ]
  },
  {
   "cell_type": "code",
   "execution_count": 5,
   "metadata": {},
   "outputs": [
    {
     "name": "stdout",
     "output_type": "stream",
     "text": [
      "training set (106912, 500, 1) (106912, 6)\n",
      "validation set (52659, 500, 1) (52659, 6)\n",
      "test set (63978, 500) (63978, 6)\n"
     ]
    }
   ],
   "source": [
    "X_train = train.comment_text\n",
    "y_train = train[categories]\n",
    "X_valid = valid.comment_text\n",
    "y_valid = valid[categories]\n",
    "X_test = df_test.comment_text.values\n",
    "y_test = df_test[categories].values\n",
    "\n",
    "tokenizer = Tokenizer(num_words=500)\n",
    "tokenizer.fit_on_texts(X_train)\n",
    "X_train = tokenizer.texts_to_matrix(X_train, mode='tfidf')\n",
    "X_valid = tokenizer.texts_to_matrix(X_valid, mode='tfidf')\n",
    "X_test = tokenizer.texts_to_matrix(X_test, mode='tfidf')\n",
    "\n",
    "X_train = tf.expand_dims(X_train, axis=2)\n",
    "X_valid = tf.expand_dims(X_valid, axis=2)\n",
    "\n",
    "y_train = y_train.values\n",
    "y_valid = y_valid.values\n",
    "\n",
    "print('training set',X_train.shape,y_train.shape)\n",
    "print('validation set',X_valid.shape,y_valid.shape)\n",
    "print('test set',X_test.shape,y_test.shape)"
   ]
  },
  {
   "cell_type": "code",
   "execution_count": 6,
   "metadata": {},
   "outputs": [
    {
     "name": "stdout",
     "output_type": "stream",
     "text": [
      "Model: \"DeepESN\"\n",
      "_________________________________________________________________\n",
      "Layer (type)                 Output Shape              Param #   \n",
      "=================================================================\n",
      "inputs (InputLayer)          [(None, 500, 1)]          0         \n",
      "_________________________________________________________________\n",
      "reservoir (SimpleDeepReservo (None, 500)               0         \n",
      "_________________________________________________________________\n",
      "readout (Dense)              (None, 6)                 3006      \n",
      "=================================================================\n",
      "Total params: 3,006\n",
      "Trainable params: 3,006\n",
      "Non-trainable params: 0\n",
      "_________________________________________________________________\n"
     ]
    }
   ],
   "source": [
    "reservoir_units = 50\n",
    "batch_size = 32\n",
    "lr = 0.001\n",
    "\n",
    "inputs = Input(shape=(X_train.shape[1],1), name='inputs')\n",
    "reservoir = SimpleDeepReservoirLayer(units=reservoir_units, layers=5, trainable=False, name='reservoir')(inputs)\n",
    "readout = Dense(num_classes, activation='sigmoid', name='readout')(reservoir)\n",
    "model = Model(inputs, readout, name='DeepESN')\n",
    "\n",
    "model.compile(optimizer=Adam(learning_rate=lr), \n",
    "              loss='binary_crossentropy', \n",
    "              metrics=[\n",
    "                    'accuracy',\n",
    "                    'binary_accuracy', \n",
    "                    tf.keras.metrics.AUC(multi_label=True),\n",
    "                    tf.keras.metrics.Precision(),\n",
    "                    tf.keras.metrics.Recall()\n",
    "              ])\n",
    "model.summary()"
   ]
  },
  {
   "cell_type": "code",
   "execution_count": null,
   "metadata": {},
   "outputs": [
    {
     "name": "stdout",
     "output_type": "stream",
     "text": [
      "Epoch 1/4\n",
      "3341/3341 [==============================] - 3599s 1s/step - loss: 0.1455 - accuracy: 0.9385 - binary_accuracy: 0.9616 - auc: 0.5088 - precision: 0.0176 - recall: 0.0015 - val_loss: 0.1424 - val_accuracy: 0.9898 - val_binary_accuracy: 0.9630 - val_auc: 0.5319 - val_precision: 0.0000e+00 - val_recall: 0.0000e+00\n",
      "Epoch 2/4\n",
      "3341/3341 [==============================] - 3116s 933ms/step - loss: 0.1441 - accuracy: 0.9539 - binary_accuracy: 0.9631 - auc: 0.5215 - precision: 0.0000e+00 - recall: 0.0000e+00 - val_loss: 0.1426 - val_accuracy: 0.9940 - val_binary_accuracy: 0.9630 - val_auc: 0.5419 - val_precision: 0.0000e+00 - val_recall: 0.0000e+00\n",
      "Epoch 3/4\n",
      "3341/3341 [==============================] - 3092s 925ms/step - loss: 0.1409 - accuracy: 0.9615 - binary_accuracy: 0.9639 - auc: 0.5350 - precision: 0.0000e+00 - recall: 0.0000e+00 - val_loss: 0.1423 - val_accuracy: 0.9913 - val_binary_accuracy: 0.9630 - val_auc: 0.5332 - val_precision: 0.0000e+00 - val_recall: 0.0000e+00\n",
      "Epoch 4/4\n",
      "1556/3341 [============>.................] - ETA: 17:56 - loss: 0.1399 - accuracy: 0.9621 - binary_accuracy: 0.9641 - auc: 0.5191 - precision: 0.0000e+00 - recall: 0.0000e+00"
     ]
    }
   ],
   "source": [
    "history = model.fit(X_train, y_train, batch_size=batch_size, epochs=4, verbose=1, validation_data=(X_valid,y_valid))"
   ]
  },
  {
   "cell_type": "code",
   "execution_count": null,
   "metadata": {},
   "outputs": [],
   "source": [
    "#model.save('esn-model')\n",
    "W = model.layers[-1].get_weights()\n",
    "np.save('readout', W)"
   ]
  },
  {
   "cell_type": "code",
   "execution_count": null,
   "metadata": {},
   "outputs": [],
   "source": [
    "scores = model.evaluate(X_test, y_test, verbose=2)\n",
    "print(f\"Test {model.metrics_names}: {scores}\")\n",
    "scores = model.evaluate(X_valid, y_valid, verbose=2)\n",
    "print(f\"Validation {model.metrics_names}: {scores}\")"
   ]
  }
 ],
 "metadata": {
  "kernelspec": {
   "display_name": "toxic",
   "language": "python",
   "name": "toxic"
  },
  "language_info": {
   "codemirror_mode": {
    "name": "ipython",
    "version": 3
   },
   "file_extension": ".py",
   "mimetype": "text/x-python",
   "name": "python",
   "nbconvert_exporter": "python",
   "pygments_lexer": "ipython3",
   "version": "3.8.10"
  }
 },
 "nbformat": 4,
 "nbformat_minor": 4
}
