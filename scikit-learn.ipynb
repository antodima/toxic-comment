{
 "cells": [
  {
   "cell_type": "markdown",
   "metadata": {},
   "source": [
    "# ***Multi Label Text Classification with Scikit-Learn*** <br/>\n",
    "https://towardsdatascience.com/multi-label-text-classification-with-scikit-learn-30714b7819c5"
   ]
  },
  {
   "cell_type": "code",
   "execution_count": 1,
   "metadata": {},
   "outputs": [
    {
     "name": "stdout",
     "output_type": "stream",
     "text": [
      "Requirement already satisfied: nltk in /home/anto/.local/lib/python3.8/site-packages (3.6.2)\n",
      "Requirement already satisfied: tqdm in /home/anto/.local/lib/python3.8/site-packages (from nltk) (4.54.0)\n",
      "Requirement already satisfied: click in /home/anto/.local/lib/python3.8/site-packages (from nltk) (7.1.2)\n",
      "Requirement already satisfied: regex in /home/anto/.local/lib/python3.8/site-packages (from nltk) (2021.8.21)\n",
      "Requirement already satisfied: joblib in /home/anto/.local/lib/python3.8/site-packages (from nltk) (0.17.0)\n"
     ]
    }
   ],
   "source": [
    "!pip install nltk"
   ]
  },
  {
   "cell_type": "code",
   "execution_count": 1,
   "metadata": {},
   "outputs": [
    {
     "name": "stderr",
     "output_type": "stream",
     "text": [
      "[nltk_data] Downloading package stopwords to /home/anto/nltk_data...\n",
      "[nltk_data]   Package stopwords is already up-to-date!\n"
     ]
    }
   ],
   "source": [
    "%matplotlib inline\n",
    "import re\n",
    "import matplotlib\n",
    "import numpy as np\n",
    "import matplotlib.pyplot as plt\n",
    "import pandas as pd\n",
    "from sklearn.model_selection import train_test_split\n",
    "from sklearn.feature_extraction.text import TfidfVectorizer\n",
    "from sklearn.naive_bayes import MultinomialNB\n",
    "from sklearn.metrics import accuracy_score, roc_auc_score, precision_score, recall_score, f1_score, classification_report\n",
    "from sklearn.multiclass import OneVsRestClassifier\n",
    "from sklearn.neural_network import MLPClassifier\n",
    "from sklearn.ensemble import RandomForestClassifier\n",
    "from sklearn.neighbors import KNeighborsClassifier\n",
    "\n",
    "import nltk\n",
    "nltk.download('stopwords')\n",
    "from nltk.corpus import stopwords\n",
    "stop_words = set(stopwords.words('english'))\n",
    "\n",
    "from sklearn.svm import LinearSVC\n",
    "from sklearn.linear_model import LogisticRegression\n",
    "from sklearn.pipeline import Pipeline\n",
    "import seaborn as sns\n",
    "\n",
    "import warnings\n",
    "from sklearn.exceptions import UndefinedMetricWarning\n",
    "warnings.filterwarnings(action='ignore', category=UndefinedMetricWarning)"
   ]
  },
  {
   "cell_type": "code",
   "execution_count": 2,
   "metadata": {},
   "outputs": [
    {
     "data": {
      "text/html": [
       "<div>\n",
       "<style scoped>\n",
       "    .dataframe tbody tr th:only-of-type {\n",
       "        vertical-align: middle;\n",
       "    }\n",
       "\n",
       "    .dataframe tbody tr th {\n",
       "        vertical-align: top;\n",
       "    }\n",
       "\n",
       "    .dataframe thead th {\n",
       "        text-align: right;\n",
       "    }\n",
       "</style>\n",
       "<table border=\"1\" class=\"dataframe\">\n",
       "  <thead>\n",
       "    <tr style=\"text-align: right;\">\n",
       "      <th></th>\n",
       "      <th>id</th>\n",
       "      <th>comment_text</th>\n",
       "      <th>toxic</th>\n",
       "      <th>severe_toxic</th>\n",
       "      <th>obscene</th>\n",
       "      <th>threat</th>\n",
       "      <th>insult</th>\n",
       "      <th>identity_hate</th>\n",
       "    </tr>\n",
       "  </thead>\n",
       "  <tbody>\n",
       "    <tr>\n",
       "      <th>0</th>\n",
       "      <td>0000997932d777bf</td>\n",
       "      <td>Explanation\\nWhy the edits made under my usern...</td>\n",
       "      <td>0</td>\n",
       "      <td>0</td>\n",
       "      <td>0</td>\n",
       "      <td>0</td>\n",
       "      <td>0</td>\n",
       "      <td>0</td>\n",
       "    </tr>\n",
       "    <tr>\n",
       "      <th>1</th>\n",
       "      <td>000103f0d9cfb60f</td>\n",
       "      <td>D'aww! He matches this background colour I'm s...</td>\n",
       "      <td>0</td>\n",
       "      <td>0</td>\n",
       "      <td>0</td>\n",
       "      <td>0</td>\n",
       "      <td>0</td>\n",
       "      <td>0</td>\n",
       "    </tr>\n",
       "    <tr>\n",
       "      <th>2</th>\n",
       "      <td>000113f07ec002fd</td>\n",
       "      <td>Hey man, I'm really not trying to edit war. It...</td>\n",
       "      <td>0</td>\n",
       "      <td>0</td>\n",
       "      <td>0</td>\n",
       "      <td>0</td>\n",
       "      <td>0</td>\n",
       "      <td>0</td>\n",
       "    </tr>\n",
       "    <tr>\n",
       "      <th>3</th>\n",
       "      <td>0001b41b1c6bb37e</td>\n",
       "      <td>\"\\nMore\\nI can't make any real suggestions on ...</td>\n",
       "      <td>0</td>\n",
       "      <td>0</td>\n",
       "      <td>0</td>\n",
       "      <td>0</td>\n",
       "      <td>0</td>\n",
       "      <td>0</td>\n",
       "    </tr>\n",
       "    <tr>\n",
       "      <th>4</th>\n",
       "      <td>0001d958c54c6e35</td>\n",
       "      <td>You, sir, are my hero. Any chance you remember...</td>\n",
       "      <td>0</td>\n",
       "      <td>0</td>\n",
       "      <td>0</td>\n",
       "      <td>0</td>\n",
       "      <td>0</td>\n",
       "      <td>0</td>\n",
       "    </tr>\n",
       "  </tbody>\n",
       "</table>\n",
       "</div>"
      ],
      "text/plain": [
       "                 id                                       comment_text  toxic  \\\n",
       "0  0000997932d777bf  Explanation\\nWhy the edits made under my usern...      0   \n",
       "1  000103f0d9cfb60f  D'aww! He matches this background colour I'm s...      0   \n",
       "2  000113f07ec002fd  Hey man, I'm really not trying to edit war. It...      0   \n",
       "3  0001b41b1c6bb37e  \"\\nMore\\nI can't make any real suggestions on ...      0   \n",
       "4  0001d958c54c6e35  You, sir, are my hero. Any chance you remember...      0   \n",
       "\n",
       "   severe_toxic  obscene  threat  insult  identity_hate  \n",
       "0             0        0       0       0              0  \n",
       "1             0        0       0       0              0  \n",
       "2             0        0       0       0              0  \n",
       "3             0        0       0       0              0  \n",
       "4             0        0       0       0              0  "
      ]
     },
     "execution_count": 2,
     "metadata": {},
     "output_type": "execute_result"
    }
   ],
   "source": [
    "df = pd.read_csv(\"data/train.csv\")\n",
    "df.head()"
   ]
  },
  {
   "cell_type": "code",
   "execution_count": 3,
   "metadata": {},
   "outputs": [
    {
     "name": "stdout",
     "output_type": "stream",
     "text": [
      "Null values:  False\n",
      "Same columns between train and test:  False\n",
      "Number of rows original: 153164\n",
      "Number of rows after: 63978\n"
     ]
    },
    {
     "data": {
      "text/html": [
       "<div>\n",
       "<style scoped>\n",
       "    .dataframe tbody tr th:only-of-type {\n",
       "        vertical-align: middle;\n",
       "    }\n",
       "\n",
       "    .dataframe tbody tr th {\n",
       "        vertical-align: top;\n",
       "    }\n",
       "\n",
       "    .dataframe thead th {\n",
       "        text-align: right;\n",
       "    }\n",
       "</style>\n",
       "<table border=\"1\" class=\"dataframe\">\n",
       "  <thead>\n",
       "    <tr style=\"text-align: right;\">\n",
       "      <th></th>\n",
       "      <th>id</th>\n",
       "      <th>comment_text</th>\n",
       "      <th>toxic</th>\n",
       "      <th>severe_toxic</th>\n",
       "      <th>obscene</th>\n",
       "      <th>threat</th>\n",
       "      <th>insult</th>\n",
       "      <th>identity_hate</th>\n",
       "      <th>one_hot_labels</th>\n",
       "    </tr>\n",
       "  </thead>\n",
       "  <tbody>\n",
       "    <tr>\n",
       "      <th>5</th>\n",
       "      <td>0001ea8717f6de06</td>\n",
       "      <td>Thank you for understanding. I think very high...</td>\n",
       "      <td>0</td>\n",
       "      <td>0</td>\n",
       "      <td>0</td>\n",
       "      <td>0</td>\n",
       "      <td>0</td>\n",
       "      <td>0</td>\n",
       "      <td>[0, 0, 0, 0, 0, 0]</td>\n",
       "    </tr>\n",
       "    <tr>\n",
       "      <th>7</th>\n",
       "      <td>000247e83dcc1211</td>\n",
       "      <td>:Dear god this site is horrible.</td>\n",
       "      <td>0</td>\n",
       "      <td>0</td>\n",
       "      <td>0</td>\n",
       "      <td>0</td>\n",
       "      <td>0</td>\n",
       "      <td>0</td>\n",
       "      <td>[0, 0, 0, 0, 0, 0]</td>\n",
       "    </tr>\n",
       "    <tr>\n",
       "      <th>11</th>\n",
       "      <td>0002f87b16116a7f</td>\n",
       "      <td>\"::: Somebody will invariably try to add Relig...</td>\n",
       "      <td>0</td>\n",
       "      <td>0</td>\n",
       "      <td>0</td>\n",
       "      <td>0</td>\n",
       "      <td>0</td>\n",
       "      <td>0</td>\n",
       "      <td>[0, 0, 0, 0, 0, 0]</td>\n",
       "    </tr>\n",
       "    <tr>\n",
       "      <th>13</th>\n",
       "      <td>0003e1cccfd5a40a</td>\n",
       "      <td>\" \\n\\n It says it right there that it IS a typ...</td>\n",
       "      <td>0</td>\n",
       "      <td>0</td>\n",
       "      <td>0</td>\n",
       "      <td>0</td>\n",
       "      <td>0</td>\n",
       "      <td>0</td>\n",
       "      <td>[0, 0, 0, 0, 0, 0]</td>\n",
       "    </tr>\n",
       "    <tr>\n",
       "      <th>14</th>\n",
       "      <td>00059ace3e3e9a53</td>\n",
       "      <td>\" \\n\\n == Before adding a new product to the l...</td>\n",
       "      <td>0</td>\n",
       "      <td>0</td>\n",
       "      <td>0</td>\n",
       "      <td>0</td>\n",
       "      <td>0</td>\n",
       "      <td>0</td>\n",
       "      <td>[0, 0, 0, 0, 0, 0]</td>\n",
       "    </tr>\n",
       "  </tbody>\n",
       "</table>\n",
       "</div>"
      ],
      "text/plain": [
       "                  id                                       comment_text  \\\n",
       "5   0001ea8717f6de06  Thank you for understanding. I think very high...   \n",
       "7   000247e83dcc1211                   :Dear god this site is horrible.   \n",
       "11  0002f87b16116a7f  \"::: Somebody will invariably try to add Relig...   \n",
       "13  0003e1cccfd5a40a  \" \\n\\n It says it right there that it IS a typ...   \n",
       "14  00059ace3e3e9a53  \" \\n\\n == Before adding a new product to the l...   \n",
       "\n",
       "    toxic  severe_toxic  obscene  threat  insult  identity_hate  \\\n",
       "5       0             0        0       0       0              0   \n",
       "7       0             0        0       0       0              0   \n",
       "11      0             0        0       0       0              0   \n",
       "13      0             0        0       0       0              0   \n",
       "14      0             0        0       0       0              0   \n",
       "\n",
       "        one_hot_labels  \n",
       "5   [0, 0, 0, 0, 0, 0]  \n",
       "7   [0, 0, 0, 0, 0, 0]  \n",
       "11  [0, 0, 0, 0, 0, 0]  \n",
       "13  [0, 0, 0, 0, 0, 0]  \n",
       "14  [0, 0, 0, 0, 0, 0]  "
      ]
     },
     "execution_count": 3,
     "metadata": {},
     "output_type": "execute_result"
    }
   ],
   "source": [
    "df_test = pd.read_csv('data/test.csv')\n",
    "cols = df_test.columns\n",
    "label_cols = list(cols[2:])\n",
    "\n",
    "test_labels_df = pd.read_csv('data/test_labels.csv')\n",
    "df_test = df_test.merge(test_labels_df, on='id', how='left')\n",
    "test_label_cols = list(df_test.columns[2:])\n",
    "print('Null values: ', df_test.isnull().values.any()) #should not be any null sentences or labels\n",
    "print('Same columns between train and test: ', label_cols == test_label_cols) #columns should be the same\n",
    "print(f\"Number of rows original: {df_test.shape[0]}\")\n",
    "\n",
    "df_test = df_test[~df_test[test_label_cols].eq(-1).any(axis=1)] #remove irrelevant rows/comments with -1 values\n",
    "df_test['one_hot_labels'] = list(df_test[test_label_cols].values)\n",
    "print(f\"Number of rows after: {df_test.shape[0]}\")\n",
    "df_test.head()"
   ]
  },
  {
   "cell_type": "markdown",
   "metadata": {},
   "source": [
    "## Number of comments in each category"
   ]
  },
  {
   "cell_type": "code",
   "execution_count": 4,
   "metadata": {},
   "outputs": [
    {
     "name": "stdout",
     "output_type": "stream",
     "text": [
      "        category  number_of_comments\n",
      "0          toxic               15294\n",
      "1   severe_toxic                1595\n",
      "2        obscene                8449\n",
      "3         threat                 478\n",
      "4         insult                7877\n",
      "5  identity_hate                1405\n",
      "\n",
      "- Percentage of comments that are not labelled: 0.8983211235124177\n",
      "- Number of missing comments in comment text: 0\n"
     ]
    },
    {
     "name": "stderr",
     "output_type": "stream",
     "text": [
      "/home/anto/.local/lib/python3.8/site-packages/seaborn/_decorators.py:36: FutureWarning: Pass the following variables as keyword args: x, y. From version 0.12, the only valid positional argument will be `data`, and passing other arguments without an explicit keyword will result in an error or misinterpretation.\n",
      "  warnings.warn(\n"
     ]
    },
    {
     "name": "stdout",
     "output_type": "stream",
     "text": [
      "Explanation\n",
      "Why the edits made under my username Hardcore Metallica Fan were reverted? They weren't vandalisms, just closure on some GAs after I voted at New York Dolls FAC. And please don't remove the template from the talk page since I'm retired now.89.205.38.27\n"
     ]
    },
    {
     "data": {
      "image/png": "[encoded data removed]",
      "text/plain": [
       "<Figure size 576x360 with 1 Axes>"
      ]
     },
     "metadata": {
      "needs_background": "light"
     },
     "output_type": "display_data"
    },
    {
     "data": {
      "image/png": "[encoded data removed]",
      "text/plain": [
       "<Figure size 576x360 with 1 Axes>"
      ]
     },
     "metadata": {
      "needs_background": "light"
     },
     "output_type": "display_data"
    }
   ],
   "source": [
    "df_toxic = df.drop(['id', 'comment_text'], axis=1)\n",
    "counts = []\n",
    "categories = list(df_toxic.columns.values)\n",
    "for i in categories:\n",
    "    counts.append((i, df_toxic[i].sum()))\n",
    "df_stats = pd.DataFrame(counts, columns=['category', 'number_of_comments'])\n",
    "print(f\"{df_stats}\\n\")\n",
    "df_stats.plot(x='category', y='number_of_comments', kind='bar', legend=False, grid=True, figsize=(8, 5))\n",
    "plt.title(\"Number of comments per category\")\n",
    "plt.ylabel('# of Occurrences', fontsize=12)\n",
    "plt.xlabel('category', fontsize=12)\n",
    "\n",
    "rowsums = df.iloc[:,2:].sum(axis=1)\n",
    "x=rowsums.value_counts()\n",
    "#plot\n",
    "plt.figure(figsize=(8,5))\n",
    "ax = sns.barplot(x.index, x.values)\n",
    "plt.title(\"Multiple categories per comment\")\n",
    "plt.ylabel('# of Occurrences', fontsize=12)\n",
    "plt.xlabel('# of categories', fontsize=12)\n",
    "\n",
    "print(f\"- Percentage of comments that are not labelled: {len(df[(df['toxic']==0) & (df['severe_toxic']==0) & (df['obscene']==0) & (df['threat']== 0) & (df['insult']==0) & (df['identity_hate']==0)]) / len(df)}\")\n",
    "print(f\"- Number of missing comments in comment text: {df['comment_text'].isnull().sum()}\")\n",
    "\n",
    "lens = df.comment_text.str.len()\n",
    "lens.hist(bins = np.arange(0,5000,50))\n",
    "\n",
    "print(df['comment_text'][0])"
   ]
  },
  {
   "cell_type": "markdown",
   "metadata": {},
   "source": [
    "## Data Preprocessing"
   ]
  },
  {
   "cell_type": "code",
   "execution_count": 5,
   "metadata": {},
   "outputs": [],
   "source": [
    "def clean_text(text):\n",
    "    text = text.lower()\n",
    "    text = re.sub(r\"what's\", \"what is \", text)\n",
    "    text = re.sub(r\"\\'s\", \" \", text)\n",
    "    text = re.sub(r\"\\'ve\", \" have \", text)\n",
    "    text = re.sub(r\"can't\", \"can not \", text)\n",
    "    text = re.sub(r\"n't\", \" not \", text)\n",
    "    text = re.sub(r\"i'm\", \"i am \", text)\n",
    "    text = re.sub(r\"\\'re\", \" are \", text)\n",
    "    text = re.sub(r\"\\'d\", \" would \", text)\n",
    "    text = re.sub(r\"\\'ll\", \" will \", text)\n",
    "    text = re.sub(r\"\\'scuse\", \" excuse \", text)\n",
    "    text = re.sub('\\W', ' ', text)\n",
    "    text = re.sub('\\s+', ' ', text)\n",
    "    text = text.strip(' ')\n",
    "    return text"
   ]
  },
  {
   "cell_type": "code",
   "execution_count": 6,
   "metadata": {},
   "outputs": [
    {
     "data": {
      "text/plain": [
       "'explanation why the edits made under my username hardcore metallica fan were reverted they were not vandalisms just closure on some gas after i voted at new york dolls fac and please do not remove the template from the talk page since i am retired now 89 205 38 27'"
      ]
     },
     "execution_count": 6,
     "metadata": {},
     "output_type": "execute_result"
    }
   ],
   "source": [
    "df['comment_text'] = df['comment_text'].map(lambda com : clean_text(com))\n",
    "df['comment_text'][0]"
   ]
  },
  {
   "cell_type": "code",
   "execution_count": 7,
   "metadata": {},
   "outputs": [
    {
     "name": "stdout",
     "output_type": "stream",
     "text": [
      "(106912,) (106912, 6)\n",
      "(52659,) (52659, 6)\n"
     ]
    }
   ],
   "source": [
    "categories = ['toxic', 'severe_toxic', 'obscene', 'threat', 'insult', 'identity_hate']\n",
    "train, valid = train_test_split(df, random_state=42, test_size=0.33, shuffle=True)\n",
    "X_train = train.comment_text\n",
    "y_train = train[categories].values\n",
    "X_valid = valid.comment_text\n",
    "y_valid = valid[categories].values\n",
    "print(X_train.shape,y_train.shape)\n",
    "print(X_valid.shape,y_valid.shape)"
   ]
  },
  {
   "cell_type": "code",
   "execution_count": 8,
   "metadata": {},
   "outputs": [
    {
     "data": {
      "text/plain": [
       "5         thank you for understanding i think very highl...\n",
       "7                            dear god this site is horrible\n",
       "11        somebody will invariably try to add religion r...\n",
       "13        it says it right there that it is a type the t...\n",
       "14        before adding a new product to the list make s...\n",
       "                                ...                        \n",
       "153150    jerome i see you never got around to this i m ...\n",
       "153151    lucky bastard http wikimediafoundation org wik...\n",
       "153154    shame on you all you want to speak about gays ...\n",
       "153155    mel gibson is a nazi bitch who makes shitty mo...\n",
       "153156    unicorn lair discovery supposedly a unicorn la...\n",
       "Name: comment_text, Length: 63978, dtype: object"
      ]
     },
     "execution_count": 8,
     "metadata": {},
     "output_type": "execute_result"
    }
   ],
   "source": [
    "df_test['comment_text'] = df_test['comment_text'].map(lambda com : clean_text(com))\n",
    "df_test['comment_text']"
   ]
  },
  {
   "cell_type": "code",
   "execution_count": 9,
   "metadata": {},
   "outputs": [
    {
     "name": "stdout",
     "output_type": "stream",
     "text": [
      "(63978,) (63978, 6)\n"
     ]
    }
   ],
   "source": [
    "X_test = df_test.comment_text.values\n",
    "y_test = df_test[categories].values\n",
    "print(X_test.shape,y_test.shape)"
   ]
  },
  {
   "cell_type": "code",
   "execution_count": 13,
   "metadata": {},
   "outputs": [
    {
     "data": {
      "image/png": "[encoded data removed]",
      "text/plain": [
       "<Figure size 432x288 with 1 Axes>"
      ]
     },
     "metadata": {
      "needs_background": "light"
     },
     "output_type": "display_data"
    },
    {
     "name": "stdout",
     "output_type": "stream",
     "text": [
      "Average % of class 1 per label: 3.665870782702789\n",
      "Average % of class 0 per label: 96.33412921729722\n"
     ]
    }
   ],
   "source": [
    "ones, zeros = [], []\n",
    "for cat in categories:\n",
    "    zeros.append(df[cat].value_counts(normalize=True)[0] * 100)\n",
    "    ones.append(df[cat].value_counts(normalize=True)[1] * 100)\n",
    "\n",
    "\n",
    "x = np.arange(len(categories))  # the label locations\n",
    "width = 0.35  # the width of the bars\n",
    "\n",
    "fig, ax = plt.subplots()\n",
    "rects1 = ax.bar(x - width/2, ones, width, label='1')\n",
    "rects2 = ax.bar(x + width/2, zeros, width, label='0')\n",
    "\n",
    "ax.set_ylabel('%')\n",
    "ax.set_title('% of classes for each label')\n",
    "ax.set_xticks(x)\n",
    "ax.set_xticklabels(categories)\n",
    "ax.legend()\n",
    "fig.tight_layout()\n",
    "plt.show()\n",
    "\n",
    "print(f\"Average % of class 1 per label: {np.mean(ones)}\")\n",
    "print(f\"Average % of class 0 per label: {np.mean(zeros)}\")"
   ]
  },
  {
   "cell_type": "markdown",
   "metadata": {},
   "source": [
    "## Multinomial Naive Bayes <br/>\n",
    "https://scikit-learn.org/stable/modules/naive_bayes.html#multinomial-naive-bayes"
   ]
  },
  {
   "cell_type": "code",
   "execution_count": 12,
   "metadata": {},
   "outputs": [
    {
     "name": "stdout",
     "output_type": "stream",
     "text": [
      "Validation accuracy: 0.8986118232400919\n",
      "Test accuracy: 0.9029197536653224\n",
      "Validation roc: 0.8482772767640118\n",
      "Test roc: 0.8426850105845768\n",
      "Validation scores:\n",
      "               precision    recall  f1-score   support\n",
      "\n",
      "        toxic       0.99      0.17      0.28      5083\n",
      " severe_toxic       0.00      0.00      0.00       526\n",
      "      obscene       0.99      0.10      0.18      2831\n",
      "       threat       1.00      0.01      0.01       152\n",
      "       insult       0.98      0.04      0.08      2643\n",
      "identity_hate       0.00      0.00      0.00       471\n",
      "\n",
      "    micro avg       0.99      0.11      0.19     11706\n",
      "    macro avg       0.66      0.05      0.09     11706\n",
      " weighted avg       0.90      0.11      0.19     11706\n",
      "  samples avg       0.02      0.01      0.01     11706\n",
      "\n",
      "Test scores:\n",
      "               precision    recall  f1-score   support\n",
      "\n",
      "        toxic       0.91      0.19      0.32      6090\n",
      " severe_toxic       0.00      0.00      0.00       367\n",
      "      obscene       0.96      0.11      0.19      3691\n",
      "       threat       0.00      0.00      0.00       211\n",
      "       insult       0.92      0.04      0.08      3427\n",
      "identity_hate       0.00      0.00      0.00       712\n",
      "\n",
      "    micro avg       0.92      0.12      0.21     14498\n",
      "    macro avg       0.46      0.06      0.10     14498\n",
      " weighted avg       0.84      0.12      0.20     14498\n",
      "  samples avg       0.02      0.01      0.01     14498\n",
      "\n"
     ]
    }
   ],
   "source": [
    "# Define a pipeline combining a text feature extractor with multi lable classifier\n",
    "NB_pipeline = Pipeline([\n",
    "        ('tfidf', TfidfVectorizer(stop_words=stop_words)),\n",
    "        ('clf', OneVsRestClassifier(MultinomialNB(fit_prior=True, class_prior=None))),\n",
    "    ])\n",
    "\n",
    "NB_pipeline.fit(X_train, y_train)\n",
    "\n",
    "print(f'Validation accuracy: {NB_pipeline.score(X_valid, y_valid)}')\n",
    "print(f'Test accuracy: {NB_pipeline.score(X_test, y_test)}')\n",
    "\n",
    "y_valid_pred = NB_pipeline.predict(X_valid)\n",
    "y_test_pred = NB_pipeline.predict(X_test)\n",
    "\n",
    "print(f\"Validation roc: {roc_auc_score(y_valid, NB_pipeline.predict_proba(X_valid), multi_class='ovr')}\")\n",
    "print(f\"Test roc: {roc_auc_score(y_test, NB_pipeline.predict_proba(X_test), multi_class='ovr')}\")\n",
    "\n",
    "print(f\"Validation scores:\\n{classification_report(y_valid, y_valid_pred, target_names=categories)}\")\n",
    "print(f\"Test scores:\\n{classification_report(y_test, y_test_pred, target_names=categories)}\")"
   ]
  },
  {
   "cell_type": "markdown",
   "metadata": {},
   "source": [
    "## LinearSVC <br/>\n",
    "https://scikit-learn.org/stable/modules/generated/sklearn.svm.LinearSVC.html#sklearn-svm-linearsvc"
   ]
  },
  {
   "cell_type": "code",
   "execution_count": 14,
   "metadata": {},
   "outputs": [
    {
     "name": "stderr",
     "output_type": "stream",
     "text": [
      "/home/anto/.local/lib/python3.8/site-packages/sklearn/svm/_base.py:985: ConvergenceWarning: Liblinear failed to converge, increase the number of iterations.\n",
      "  warnings.warn(\"Liblinear failed to converge, increase \"\n",
      "/home/anto/.local/lib/python3.8/site-packages/sklearn/svm/_base.py:985: ConvergenceWarning: Liblinear failed to converge, increase the number of iterations.\n",
      "  warnings.warn(\"Liblinear failed to converge, increase \"\n",
      "/home/anto/.local/lib/python3.8/site-packages/sklearn/svm/_base.py:985: ConvergenceWarning: Liblinear failed to converge, increase the number of iterations.\n",
      "  warnings.warn(\"Liblinear failed to converge, increase \"\n"
     ]
    },
    {
     "name": "stdout",
     "output_type": "stream",
     "text": [
      "Validation accuracy: 0.8950226931768549\n",
      "Test accuracy: 0.8325049235674763\n",
      "Validation roc: 0.8263248616507596\n",
      "Test roc: 0.8429049488949042\n",
      "Validation scores:\n",
      "               precision    recall  f1-score   support\n",
      "\n",
      "        toxic       0.71      0.80      0.75      5083\n",
      " severe_toxic       0.33      0.61      0.43       526\n",
      "      obscene       0.76      0.82      0.79      2831\n",
      "       threat       0.42      0.49      0.45       152\n",
      "       insult       0.62      0.76      0.69      2643\n",
      "identity_hate       0.38      0.53      0.45       471\n",
      "\n",
      "    micro avg       0.66      0.77      0.71     11706\n",
      "    macro avg       0.54      0.67      0.59     11706\n",
      " weighted avg       0.67      0.77      0.72     11706\n",
      "  samples avg       0.07      0.07      0.07     11706\n",
      "\n",
      "Test scores:\n",
      "               precision    recall  f1-score   support\n",
      "\n",
      "        toxic       0.47      0.87      0.61      6090\n",
      " severe_toxic       0.17      0.71      0.28       367\n",
      "      obscene       0.53      0.82      0.64      3691\n",
      "       threat       0.31      0.59      0.40       211\n",
      "       insult       0.46      0.75      0.57      3427\n",
      "identity_hate       0.36      0.61      0.45       712\n",
      "\n",
      "    micro avg       0.46      0.81      0.58     14498\n",
      "    macro avg       0.38      0.72      0.49     14498\n",
      " weighted avg       0.47      0.81      0.59     14498\n",
      "  samples avg       0.07      0.08      0.07     14498\n",
      "\n"
     ]
    }
   ],
   "source": [
    "SVC_pipeline = Pipeline([\n",
    "                ('tfidf', TfidfVectorizer(stop_words=stop_words)),\n",
    "                ('clf', OneVsRestClassifier(LinearSVC(class_weight='balanced'), n_jobs=1)),\n",
    "            ])\n",
    "\n",
    "SVC_pipeline.fit(X_train, y_train)\n",
    "\n",
    "print(f'Validation accuracy: {SVC_pipeline.score(X_valid, y_valid)}')\n",
    "print(f'Test accuracy: {SVC_pipeline.score(X_test, y_test)}')\n",
    "\n",
    "y_valid_pred = SVC_pipeline.predict(X_valid)\n",
    "y_test_pred = SVC_pipeline.predict(X_test)\n",
    "\n",
    "print(f\"Validation roc: {roc_auc_score(y_valid, SVC_pipeline.predict(X_valid), multi_class='ovr')}\")\n",
    "print(f\"Test roc: {roc_auc_score(y_test, SVC_pipeline.predict(X_test), multi_class='ovr')}\")\n",
    "\n",
    "print(f\"Validation scores:\\n{classification_report(y_valid, y_valid_pred, target_names=categories)}\")\n",
    "print(f\"Test scores:\\n{classification_report(y_test, y_test_pred, target_names=categories)}\")"
   ]
  },
  {
   "cell_type": "markdown",
   "metadata": {},
   "source": [
    "## Logistic Regression <br/>\n",
    "https://scikit-learn.org/stable/modules/generated/sklearn.linear_model.LogisticRegression.html#sklearn-linear-model-logisticregression"
   ]
  },
  {
   "cell_type": "code",
   "execution_count": 20,
   "metadata": {},
   "outputs": [
    {
     "name": "stdout",
     "output_type": "stream",
     "text": [
      "Validation accuracy: 0.8800964697392658\n",
      "Test accuracy: 0.8130294788833662\n",
      "Validation roc: 0.978224053405245\n",
      "Test roc: 0.9734228374482244\n",
      "Validation scores:\n",
      "               precision    recall  f1-score   support\n",
      "\n",
      "        toxic       0.66      0.85      0.74      5083\n",
      " severe_toxic       0.28      0.83      0.42       526\n",
      "      obscene       0.71      0.87      0.78      2831\n",
      "       threat       0.22      0.71      0.34       152\n",
      "       insult       0.57      0.85      0.68      2643\n",
      "identity_hate       0.25      0.74      0.37       471\n",
      "\n",
      "    micro avg       0.57      0.85      0.68     11706\n",
      "    macro avg       0.45      0.81      0.56     11706\n",
      " weighted avg       0.61      0.85      0.70     11706\n",
      "  samples avg       0.06      0.08      0.07     11706\n",
      "\n",
      "Test scores:\n",
      "               precision    recall  f1-score   support\n",
      "\n",
      "        toxic       0.44      0.90      0.59      6090\n",
      " severe_toxic       0.14      0.89      0.24       367\n",
      "      obscene       0.47      0.87      0.61      3691\n",
      "       threat       0.18      0.79      0.30       211\n",
      "       insult       0.40      0.86      0.54      3427\n",
      "identity_hate       0.23      0.80      0.36       712\n",
      "\n",
      "    micro avg       0.39      0.88      0.54     14498\n",
      "    macro avg       0.31      0.85      0.44     14498\n",
      " weighted avg       0.42      0.88      0.56     14498\n",
      "  samples avg       0.06      0.08      0.07     14498\n",
      "\n"
     ]
    }
   ],
   "source": [
    "LogReg_pipeline = Pipeline([\n",
    "                ('tfidf', TfidfVectorizer(stop_words=stop_words)),\n",
    "                ('clf', OneVsRestClassifier(LogisticRegression(solver='lbfgs', class_weight='balanced'), n_jobs=1)),\n",
    "            ])\n",
    "\n",
    "LogReg_pipeline.fit(X_train, y_train)\n",
    "\n",
    "print(f'Validation accuracy: {LogReg_pipeline.score(X_valid, y_valid)}')\n",
    "print(f'Test accuracy: {LogReg_pipeline.score(X_test, y_test)}')\n",
    "\n",
    "y_valid_pred = LogReg_pipeline.predict(X_valid)\n",
    "y_test_pred = LogReg_pipeline.predict(X_test)\n",
    "\n",
    "print(f\"Validation roc: {roc_auc_score(y_valid, LogReg_pipeline.predict_proba(X_valid), multi_class='ovr')}\")\n",
    "print(f\"Test roc: {roc_auc_score(y_test, LogReg_pipeline.predict_proba(X_test), multi_class='ovr')}\")\n",
    "\n",
    "print(f\"Validation scores:\\n{classification_report(y_valid, y_valid_pred, target_names=categories)}\")\n",
    "print(f\"Test scores:\\n{classification_report(y_test, y_test_pred, target_names=categories)}\")"
   ]
  },
  {
   "cell_type": "markdown",
   "metadata": {},
   "source": [
    "## RandomForestClassifier <br/>\n",
    "https://scikit-learn.org/stable/modules/generated/sklearn.ensemble.RandomForestClassifier.html#sklearn-ensemble-randomforestclassifier"
   ]
  },
  {
   "cell_type": "code",
   "execution_count": 23,
   "metadata": {},
   "outputs": [
    {
     "name": "stdout",
     "output_type": "stream",
     "text": [
      "Validation accuracy: 0.8975293871892744\n",
      "Test accuracy: 0.90241958173122\n",
      "Validation roc: 0.5\n",
      "Test roc: 0.5\n",
      "Validation scores:\n",
      "               precision    recall  f1-score   support\n",
      "\n",
      "        toxic       0.00      0.00      0.00      5083\n",
      " severe_toxic       0.00      0.00      0.00       526\n",
      "      obscene       0.00      0.00      0.00      2831\n",
      "       threat       0.00      0.00      0.00       152\n",
      "       insult       0.00      0.00      0.00      2643\n",
      "identity_hate       0.00      0.00      0.00       471\n",
      "\n",
      "    micro avg       0.00      0.00      0.00     11706\n",
      "    macro avg       0.00      0.00      0.00     11706\n",
      " weighted avg       0.00      0.00      0.00     11706\n",
      "  samples avg       0.00      0.00      0.00     11706\n",
      "\n",
      "Test scores:\n",
      "               precision    recall  f1-score   support\n",
      "\n",
      "        toxic       0.00      0.00      0.00      6090\n",
      " severe_toxic       0.00      0.00      0.00       367\n",
      "      obscene       0.00      0.00      0.00      3691\n",
      "       threat       0.00      0.00      0.00       211\n",
      "       insult       0.00      0.00      0.00      3427\n",
      "identity_hate       0.00      0.00      0.00       712\n",
      "\n",
      "    micro avg       0.00      0.00      0.00     14498\n",
      "    macro avg       0.00      0.00      0.00     14498\n",
      " weighted avg       0.00      0.00      0.00     14498\n",
      "  samples avg       0.00      0.00      0.00     14498\n",
      "\n"
     ]
    }
   ],
   "source": [
    "RF_pipeline = Pipeline([\n",
    "                ('tfidf', TfidfVectorizer(stop_words=stop_words)),\n",
    "                ('clf', RandomForestClassifier(n_estimators=25, max_depth=2, random_state=0)),\n",
    "            ])\n",
    "\n",
    "RF_pipeline.fit(X_train, y_train)\n",
    "\n",
    "print(f'Validation accuracy: {RF_pipeline.score(X_valid, y_valid)}')\n",
    "print(f'Test accuracy: {RF_pipeline.score(X_test, y_test)}')\n",
    "\n",
    "y_valid_pred = RF_pipeline.predict(X_valid)\n",
    "y_test_pred = RF_pipeline.predict(X_test)\n",
    "\n",
    "y_valid_pred_p = RF_pipeline.predict_proba(X_valid)\n",
    "y_test_pred_p = RF_pipeline.predict_proba(X_test)\n",
    "\n",
    "print(f\"Validation roc: {roc_auc_score(y_valid, y_valid_pred, multi_class='ovr')}\")\n",
    "print(f\"Test roc: {roc_auc_score(y_test, y_test_pred, multi_class='ovr')}\")\n",
    "\n",
    "print(f\"Validation scores:\\n{classification_report(y_valid, y_valid_pred, target_names=categories)}\")\n",
    "print(f\"Test scores:\\n{classification_report(y_test, y_test_pred, target_names=categories)}\")"
   ]
  },
  {
   "cell_type": "markdown",
   "metadata": {},
   "source": [
    "## KNeighborsClassifier <br/>\n",
    "https://scikit-learn.org/stable/modules/generated/sklearn.neighbors.KNeighborsClassifier.html#sklearn-neighbors-kneighborsclassifier"
   ]
  },
  {
   "cell_type": "code",
   "execution_count": 18,
   "metadata": {},
   "outputs": [
    {
     "name": "stdout",
     "output_type": "stream",
     "text": [
      "Validation accuracy: 0.8542889154750375\n",
      "Test accuracy: 0.8524336490668667\n",
      "Validation roc: 0.5606735529358775\n",
      "Test roc: 0.5633477786785899\n",
      "Validation scores:\n",
      "               precision    recall  f1-score   support\n",
      "\n",
      "        toxic       0.29      0.21      0.24      5083\n",
      " severe_toxic       0.47      0.10      0.17       526\n",
      "      obscene       0.39      0.20      0.26      2831\n",
      "       threat       0.57      0.05      0.10       152\n",
      "       insult       0.76      0.15      0.25      2643\n",
      "identity_hate       0.64      0.09      0.16       471\n",
      "\n",
      "    micro avg       0.36      0.18      0.24     11706\n",
      "    macro avg       0.52      0.13      0.20     11706\n",
      " weighted avg       0.45      0.18      0.24     11706\n",
      "  samples avg       0.02      0.02      0.02     11706\n",
      "\n",
      "Test scores:\n",
      "               precision    recall  f1-score   support\n",
      "\n",
      "        toxic       0.28      0.25      0.26      6090\n",
      " severe_toxic       0.21      0.08      0.11       367\n",
      "      obscene       0.35      0.19      0.25      3691\n",
      "       threat       0.33      0.07      0.12       211\n",
      "       insult       0.63      0.15      0.25      3427\n",
      "identity_hate       0.59      0.12      0.19       712\n",
      "\n",
      "    micro avg       0.34      0.20      0.25     14498\n",
      "    macro avg       0.40      0.14      0.20     14498\n",
      " weighted avg       0.40      0.20      0.25     14498\n",
      "  samples avg       0.02      0.02      0.02     14498\n",
      "\n"
     ]
    }
   ],
   "source": [
    "KN_pipeline = Pipeline([\n",
    "                ('tfidf', TfidfVectorizer(stop_words=stop_words)),\n",
    "                ('clf', KNeighborsClassifier(n_neighbors=5)),\n",
    "            ])\n",
    "\n",
    "KN_pipeline.fit(X_train, y_train)\n",
    "\n",
    "print(f'Validation accuracy: {KN_pipeline.score(X_valid, y_valid)}')\n",
    "print(f'Test accuracy: {KN_pipeline.score(X_test, y_test)}')\n",
    "\n",
    "y_valid_pred = KN_pipeline.predict(X_valid)\n",
    "y_test_pred = KN_pipeline.predict(X_test)\n",
    "\n",
    "print(f\"Validation roc: {roc_auc_score(y_valid, y_valid_pred, multi_class='ovr')}\")\n",
    "print(f\"Test roc: {roc_auc_score(y_test, y_test_pred, multi_class='ovr')}\")\n",
    "\n",
    "print(f\"Validation scores:\\n{classification_report(y_valid, y_valid_pred, target_names=categories)}\")\n",
    "print(f\"Test scores:\\n{classification_report(y_test, y_test_pred, target_names=categories)}\")"
   ]
  },
  {
   "cell_type": "markdown",
   "metadata": {},
   "source": [
    "## MLPClassifier <br/>\n",
    "https://scikit-learn.org/stable/modules/generated/sklearn.neural_network.MLPClassifier.html#sklearn-neural-network-mlpclassifier"
   ]
  },
  {
   "cell_type": "code",
   "execution_count": null,
   "metadata": {},
   "outputs": [],
   "source": [
    "MLP_pipeline = Pipeline([\n",
    "                ('tfidf', TfidfVectorizer(stop_words=stop_words)),\n",
    "                ('clf', MLPClassifier(max_iter=100, hidden_layer_sizes=100, activation='relu', solver='adam', verbose=True)),\n",
    "            ])\n",
    "\n",
    "MLP_pipeline.fit(X_train, y_train)\n",
    "\n",
    "print(f'Validation accuracy: {MLP_pipeline.score(X_valid, y_valid)}')\n",
    "print(f'Test accuracy: {MLP_pipeline.score(X_test, y_test)}')\n",
    "\n",
    "y_valid_pred = MLP_pipeline.predict(X_valid)\n",
    "y_test_pred = MLP_pipeline.predict(X_test)\n",
    "\n",
    "print(f\"Validation roc: {roc_auc_score(y_valid, MLP_pipeline.predict_proba(X_valid), multi_class='ovr')}\")\n",
    "print(f\"Test roc: {roc_auc_score(y_test, MLP_pipeline.predict_proba(X_test), multi_class='ovr')}\")\n",
    "\n",
    "print(f\"Validation scores:\\n{classification_report(y_valid, y_valid_pred, target_names=categories)}\")\n",
    "print(f\"Test scores:\\n{classification_report(y_test, y_test_pred, target_names=categories)}\")"
   ]
  }
 ],
 "metadata": {
  "kernelspec": {
   "display_name": "toxic",
   "language": "python",
   "name": "toxic"
  },
  "language_info": {
   "codemirror_mode": {
    "name": "ipython",
    "version": 3
   },
   "file_extension": ".py",
   "mimetype": "text/x-python",
   "name": "python",
   "nbconvert_exporter": "python",
   "pygments_lexer": "ipython3",
   "version": "3.8.10"
  }
 },
 "nbformat": 4,
 "nbformat_minor": 4
}
